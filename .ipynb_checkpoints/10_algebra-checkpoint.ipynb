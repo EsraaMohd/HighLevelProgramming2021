{
 "cells": [
  {
   "cell_type": "markdown",
   "metadata": {},
   "source": [
    "# Linear Algebra"
   ]
  },
  {
   "cell_type": "markdown",
   "metadata": {},
   "source": [
    "The `scipy` is the core package for scientific routines in Python; it is meant to operate efficiently on numpy arrays, so that numpy and `scipy` work hand in hand. The `scipy.linalg` module provides standard linear algebra operations, relying on an underlying efficient implementation (BLAS, LAPACK).\n",
    "\n",
    "Before implementing a routine, it is worth checking if the desired algorithm is not already implemented in `scipy`. As non-professional programmers, scientists often tend to re-invent the wheel, which leads to buggy, non-optimal, difficult-to-share and unmaintainable code. By contrast, `scipy`'s routines are optimized and tested, and should therefore be used when possible.\n",
    "\n",
    "In this noteboook, we will review a few examples and applications. Sometimes numpy implements those methods too: if a given algorithm is present both in numpy and scipy, typically the latter is more performant."
   ]
  },
  {
   "cell_type": "code",
   "execution_count": 1,
   "metadata": {},
   "outputs": [],
   "source": [
    "import numpy as np\n",
    "from scipy import linalg as la\n",
    "from matplotlib import pyplot as plt"
   ]
  },
  {
   "cell_type": "markdown",
   "metadata": {},
   "source": [
    "## Matrix operations\n",
    "\n",
    "Remember that two vectors may have two very different products:\n",
    " - The [inner product](https://numpy.org/doc/stable/reference/generated/numpy.inner.html), expressed as $v^T w$ (with $v$ and $w$ that are column vectors), is the product of a $1 \\times n$ vector with an $n \\times 1$ vector, and the result of the inner product is a **scalar**.\n",
    " - The [outer product](https://numpy.org/doc/stable/reference/generated/numpy.outer.html) of two vectors is given by:\n",
    "$$\n",
    "v\\otimes w = vw^T\n",
    "$$\n",
    "and the result of the outer product is a **matrix**."
   ]
  },
  {
   "cell_type": "code",
   "execution_count": 2,
   "metadata": {},
   "outputs": [
    {
     "name": "stdout",
     "output_type": "stream",
     "text": [
      "Norm: 2.23606797749979\n",
      "Distance: 1.0\n",
      "Dot prod: 3\n",
      "Inner prod: 3\n",
      "Outer prod:\n",
      " [[1 1]\n",
      " [2 2]]\n"
     ]
    }
   ],
   "source": [
    "# norm of a vector\n",
    "v = np.array([1, 2])\n",
    "print(\"Norm:\", la.norm(v))\n",
    "\n",
    "# distance between two vectors\n",
    "w = np.array([1, 1])\n",
    "print(\"Distance:\", la.norm(v - w))\n",
    "\n",
    "# inner product\n",
    "print(\"Dot prod:\", v.dot(w))\n",
    "\n",
    "# inner product\n",
    "print(\"Inner prod:\", np.inner(v, w)) # with 1D arrays, np.dot and np.inner are equivalent\n",
    "\n",
    "# outer product\n",
    "print(\"Outer prod:\\n\", np.outer(v, w))"
   ]
  },
  {
   "cell_type": "markdown",
   "metadata": {},
   "source": [
    "Of course, `scipy` also offers optimized methods to calculate the trace of a matrix (the sum of the diagonal elements in a square matrix):"
   ]
  },
  {
   "cell_type": "code",
   "execution_count": 3,
   "metadata": {},
   "outputs": [
    {
     "name": "stdout",
     "output_type": "stream",
     "text": [
      "[[14 62 62 90 55 86]\n",
      " [10 55 62 29 36  9]\n",
      " [88 89 10  1 13 65]\n",
      " [ 0  9 53 10 73 24]\n",
      " [52 77 26 69 98  3]\n",
      " [46 80 56 86 67 46]] \n",
      "\n",
      "Trace:\n",
      " 233 \n",
      "\n"
     ]
    }
   ],
   "source": [
    "M = np.random.randint(100, size=(6, 6))\n",
    "print(M, '\\n')\n",
    "print(\"Trace:\\n\", M.trace(), '\\n')"
   ]
  },
  {
   "cell_type": "markdown",
   "metadata": {},
   "source": [
    "... and the determinant:"
   ]
  },
  {
   "cell_type": "code",
   "execution_count": 4,
   "metadata": {},
   "outputs": [
    {
     "name": "stdout",
     "output_type": "stream",
     "text": [
      "Determinant:\n",
      " -49718277088.000015 \n",
      "\n"
     ]
    }
   ],
   "source": [
    "print(\"Determinant:\\n\", la.det(M), '\\n')"
   ]
  },
  {
   "cell_type": "markdown",
   "metadata": {},
   "source": [
    "#### Example: calculate the covariance matrix with the outer product\n",
    "\n",
    "As a first practical example for matrix operations, we want to calculate the covariance matrix from a given data set. Suppose we have $p$ variables (columns) and $n$ measurements (rows). The dataset would be a matrix $V$, which  is therefore a $n \\times p$ matrix. If all the variables (columns) have zero mean, the covariance matrix can be evaluated as:\n",
    "\n",
    "$$C = \\frac{V V^T}{p-1}$$\n",
    "\n",
    "This is a multiplication of a $n \\times p$ matrix ($V$), and a $p \\times n$ matrix ($V^T$), which results in a $n \\times n$ matrix."
   ]
  },
  {
   "cell_type": "code",
   "execution_count": 5,
   "metadata": {},
   "outputs": [
    {
     "name": "stdout",
     "output_type": "stream",
     "text": [
      "[[0.36644756 0.79154491 0.43879745 0.36409958 0.38715835 0.56016708\n",
      "  0.11305977 0.75698327 0.71861141 0.69538713]\n",
      " [0.51165022 0.06459585 0.29851361 0.05769324 0.97727877 0.2808894\n",
      "  0.45836282 0.08830828 0.08700003 0.23639424]\n",
      " [0.70003968 0.48872197 0.35983723 0.75588816 0.47657599 0.7482304\n",
      "  0.61271241 0.95543353 0.03983262 0.68196857]\n",
      " [0.61890427 0.9186806  0.42393927 0.20364316 0.6229843  0.73230966\n",
      "  0.35126574 0.10024197 0.46945862 0.83107512]]\n"
     ]
    }
   ],
   "source": [
    "# generate 4 sequences of 10 random numbers (flat between 0 and 1)\n",
    "n, p = 4, 10\n",
    "v = np.random.random((n, p))\n",
    "print(v) # 10 x 4 matrix"
   ]
  },
  {
   "cell_type": "code",
   "execution_count": 13,
   "metadata": {},
   "outputs": [
    {
     "name": "stdout",
     "output_type": "stream",
     "text": [
      "Mean for each row:\n",
      " [[0.51922565]\n",
      " [0.30606865]\n",
      " [0.58192406]\n",
      " [0.52725027]] \n",
      "\n",
      "Centered matrix:\n",
      " [[-0.15277809  0.27231926 -0.0804282  -0.15512607 -0.1320673   0.04094143\n",
      "  -0.40616588  0.23775762  0.19938576  0.17616148]\n",
      " [ 0.20558158 -0.24147279 -0.00755504 -0.24837541  0.67121012 -0.02517924\n",
      "   0.15229417 -0.21776036 -0.21906862 -0.06967441]\n",
      " [ 0.11811562 -0.09320209 -0.22208683  0.1739641  -0.10534806  0.16630635\n",
      "   0.03078836  0.37350948 -0.54209144  0.10004451]\n",
      " [ 0.091654    0.39143033 -0.103311   -0.32360711  0.09573403  0.20505939\n",
      "  -0.17598454 -0.4270083  -0.05779165  0.30382485]] \n",
      "\n",
      "Covariance matrix:\n",
      " [[ 0.04882629 -0.0352543  -0.00511005  0.01764514]\n",
      " [-0.0352543   0.08188178 -0.00383361  0.01358324]\n",
      " [-0.00511005 -0.00383361  0.06503437 -0.01535296]\n",
      " [ 0.01764514  0.01358324 -0.01535296  0.07079814]] \n",
      "\n",
      "Covariance matrix with numpy:\n",
      " [[ 0.04882629 -0.0352543  -0.00511005  0.01764514]\n",
      " [-0.0352543   0.08188178 -0.00383361  0.01358324]\n",
      " [-0.00511005 -0.00383361  0.06503437 -0.01535296]\n",
      " [ 0.01764514  0.01358324 -0.01535296  0.07079814]] \n",
      "\n",
      "Are they the same? True\n"
     ]
    }
   ],
   "source": [
    "# compute the mean of each sequence (row) and set the right shape (from 1x4 to 4x1)\n",
    "v_mean = v.mean(axis=1)[:, np.newaxis]\n",
    "print(\"Mean for each row:\\n\", v_mean, '\\n')\n",
    "\n",
    "# re-center each sequence (row) around its mean\n",
    "w = v - v_mean\n",
    "print(\"Centered matrix:\\n\", w, '\\n')\n",
    "\n",
    "# compute the covariance matrix\n",
    "cov = w.dot(w.T) / (p - 1)\n",
    "print(\"Covariance matrix:\\n\", cov, '\\n')\n",
    "\n",
    "np_cov = np.cov(v)\n",
    "# The covariance matrix can be calculated directly from numpy\n",
    "print(\"Covariance matrix with numpy:\\n\", np_cov, '\\n')\n",
    "\n",
    "print(\"Are they the same?\", np.allclose(cov, np_cov))"
   ]
  },
  {
   "cell_type": "markdown",
   "metadata": {},
   "source": [
    "## Linear systems\n",
    "\n",
    "In several cases, some computational problems can be reduced to solving linear systems.\n",
    "If you are dealing with a problem that can be expressed with a linear systems of the type:\n",
    "\n",
    "$$A x = b$$\n",
    "\n",
    "`scipy` provides a `solve()` [method](https://docs.scipy.org/doc/scipy/reference/reference/generated/scipy.linalg.solve.html#scipy.linalg.solve) for solving it.\n",
    "\n",
    "Still, knowing a little bit what are the algorithms underneath comes handy sometimes, e.g. the solve method can be instructed about what kind of matrix $A$ is likely to be (symmetric, hermitian, positive definite, etc.)"
   ]
  },
  {
   "cell_type": "code",
   "execution_count": 14,
   "metadata": {},
   "outputs": [
    {
     "name": "stdout",
     "output_type": "stream",
     "text": [
      "x: [ 2. -2.  9.] \n",
      "\n",
      "Is Ax == b? [ True  True  True]\n"
     ]
    }
   ],
   "source": [
    "A = np.array([[3, 2, 0], [1, -1, 0], [0, 5, 1]])\n",
    "b = np.array([2, 4, -1])\n",
    "x = la.solve(A, b)\n",
    "print(\"x:\", x, '\\n')\n",
    "print(\"Is Ax == b?\", np.dot(A, x) == b)"
   ]
  },
  {
   "cell_type": "code",
   "execution_count": 15,
   "metadata": {},
   "outputs": [],
   "source": [
    "#n = 10000\n",
    "#A = np.random.randn(n, n)\n",
    "#b = np.random.randn(n)\n",
    "#x = la.solve(A, b)\n",
    "#print(\"x:\", x)"
   ]
  },
  {
   "cell_type": "markdown",
   "metadata": {},
   "source": [
    "## Matrix Decomposition\n",
    "\n",
    "Unfortunately, if the amount of input data is large, solving linear systems by inverting the matrix can quickly become unpractical from the computational point of view.\n",
    "\n",
    "An example is the [Netflix Competition](https://en.wikipedia.org/wiki/Netflix_Prize), where a matrix of $400000 \\times 18000$ (ratings times movies) needed to be dealt with.\n",
    "\n",
    "In these cases, the problem should be tackled by operating some convenient transformation of the input matrix.\n",
    "\n",
    "In the mathematical discipline of linear algebra, a **matrix decomposition** or matrix factorization is a factorization of a matrix into a product of matrices. Matrix decompositions are an important step in solving linear systems in a computationally efficient manner.\n",
    "\n",
    "### Lower-Upper factorization\n",
    "\n",
    "Let $A$ be a *square matrix*. An LU factorization refers to the factorization of $A$, with a proper row and/or column orderings or permutations, into two factors: a lower triangular matrix $L$ and an upper triangular matrix $U$:\n",
    "\n",
    "$A=LU$\n",
    "\n",
    "when solving a system of linear equations, $Ax=b=LUx$, the solution is done in two logical steps:\n",
    "\n",
    "1. solve $Ly=b$ for $y$.\n",
    "2. solve $Ux=y$ for $x$.\n",
    "\n",
    "Often a permutation $P$ is needed (*partial pivoting*) to best reorder the rows of the original matrix.\n",
    "\n",
    "The `scipy.linalg` method `lu()` performs the [LU decomposition](https://docs.scipy.org/doc/scipy/reference/generated/scipy.linalg.lu.html):"
   ]
  },
  {
   "cell_type": "code",
   "execution_count": 16,
   "metadata": {},
   "outputs": [
    {
     "name": "stdout",
     "output_type": "stream",
     "text": [
      "A:\n",
      " [[1 3 4]\n",
      " [2 1 3]\n",
      " [4 1 2]] \n",
      "\n",
      "P:\n",
      " [[0. 1. 0.]\n",
      " [0. 0. 1.]\n",
      " [1. 0. 0.]] \n",
      "\n",
      "L:\n",
      " [[1.         0.         0.        ]\n",
      " [0.25       1.         0.        ]\n",
      " [0.5        0.18181818 1.        ]] \n",
      "\n",
      "U:\n",
      " [[4.         1.         2.        ]\n",
      " [0.         2.75       3.5       ]\n",
      " [0.         0.         1.36363636]] \n",
      "\n",
      "LU:\n",
      " [[4. 1. 2.]\n",
      " [1. 3. 4.]\n",
      " [2. 1. 3.]] \n",
      "\n",
      "A:\n",
      " [[4. 1. 2.]\n",
      " [1. 3. 4.]\n",
      " [2. 1. 3.]] \n",
      "\n"
     ]
    }
   ],
   "source": [
    "A = np.array([[1, 3, 4], [2, 1, 3], [4, 1, 2]])\n",
    "print(\"A:\\n\", A, \"\\n\")\n",
    "\n",
    "P, L, U = la.lu(A)\n",
    "# P is the permutation matrix of the original matrix A\n",
    "print(\"P:\\n\", P, '\\n')\n",
    "print(\"L:\\n\", L, '\\n')\n",
    "print(\"U:\\n\", U, '\\n')\n",
    "print(\"LU:\\n\", np.dot(L, U), '\\n')\n",
    "print(\"A:\\n\", np.dot(P.T, A), '\\n')"
   ]
  },
  {
   "cell_type": "markdown",
   "metadata": {},
   "source": [
    "### Eigendecomposition\n",
    "\n",
    "Given a *square* $n\\times n$ matrix $A$, with $\\det{A}\\ne0$, then there exist $n$ linearly independent eigenvectors and $A$ may be decomposed in the following manner:\n",
    "\n",
    "$$ \n",
    "A=V\\Lambda V^{-1}\n",
    "$$\n",
    "\n",
    "where $\\Lambda$ is a diagonal matrix whose diagonal entries are the eigenvalues of $A$ and the columns of $V$ are the corresponding eigenvectors of $A$.\n",
    "\n",
    "Eigenvalues are roots of the *characteristic polynomial* of $A$:\n",
    "\n",
    "$$\n",
    "\\det{(A-\\lambda I)}=0\n",
    "$$\n",
    "\n",
    "with $I$ being the identity matrix.\n",
    "\n",
    "The eigendecomposition is performed by the method `eig()` [documentation](https://docs.scipy.org/doc/scipy/reference/generated/scipy.linalg.eig.html):"
   ]
  },
  {
   "cell_type": "code",
   "execution_count": 17,
   "metadata": {},
   "outputs": [
    {
     "name": "stdout",
     "output_type": "stream",
     "text": [
      "A:\n",
      " [[0 1 1]\n",
      " [2 1 0]\n",
      " [3 4 5]] \n",
      "\n",
      "l:\n",
      " [ 5.85410197+0.j -0.85410197+0.j  1.        +0.j] \n",
      "\n",
      "real(l):\n",
      " [ 5.85410197 -0.85410197  1.        ] \n",
      "\n",
      "V:\n",
      " [[ 1.80228488e-01  6.72063326e-01 -2.06609884e-16]\n",
      " [ 7.42582208e-02 -7.24947536e-01 -7.07106781e-01]\n",
      " [ 9.80817725e-01  1.50936928e-01  7.07106781e-01]] \n",
      "\n"
     ]
    }
   ],
   "source": [
    "A = np.array([[0, 1, 1], [2, 1, 0], [3, 4, 5]])\n",
    "print(\"A:\\n\", A, '\\n')\n",
    "\n",
    "l, V = la.eig(A)\n",
    "# the eigenvalues\n",
    "print(\"l:\\n\", l, '\\n')\n",
    "print(\"real(l):\\n\", np.real_if_close(l), '\\n')\n",
    "# V is the matrix of the eigenvectors\n",
    "print(\"V:\\n\", V, '\\n')"
   ]
  },
  {
   "cell_type": "markdown",
   "metadata": {},
   "source": [
    "Check that the decomposition $V \\Lambda V^{-1}$ returns the original matrix $A$:"
   ]
  },
  {
   "cell_type": "code",
   "execution_count": 18,
   "metadata": {},
   "outputs": [
    {
     "name": "stdout",
     "output_type": "stream",
     "text": [
      "[[ 7.03814098e-16  1.00000000e+00  1.00000000e+00]\n",
      " [ 2.00000000e+00  1.00000000e+00 -4.93155865e-16]\n",
      " [ 3.00000000e+00  4.00000000e+00  5.00000000e+00]] \n",
      "\n",
      "Are A and D equal? True\n"
     ]
    }
   ],
   "source": [
    "D = np.dot(V, np.dot(np.diag(np.real_if_close(l)), la.inv(V)))\n",
    "print(D, '\\n')\n",
    "print(\"Are A and D equal?\", np.allclose(A, D))"
   ]
  },
  {
   "cell_type": "markdown",
   "metadata": {},
   "source": [
    "### Singular Value Decomposition\n",
    "\n",
    "Another important matrix decomposition is singular value decomposition or SVD. For any $m\\times n$ matrix $A$, we may write:\n",
    "\n",
    "$$A=UDV^T$$\n",
    "\n",
    "where (assuming $A$ is real):\n",
    " - $U$ is a $m\\times m$ orthogonal, unitary matrix\n",
    " - $D$ (spectrum) is a rectangular, diagonal $m\\times n$ matrix with diagonal entries $d_1,\\dots,d_m$ all non-negative\n",
    " - $V$ is a $n\\times n$ orthogonal, unitary matrix.\n",
    "\n",
    "The singular-value decomposition is a generalization of the eigendecomposition in the sense that it can be applied to any $m \\times n$ matrix whereas eigenvalue decomposition can only be applied to diagonalizable matrices. \n",
    "\n",
    "Given an SVD of $A$, as described above, the following holds:\n",
    "\n",
    "$$\n",
    "A^T A = VD^TU^T UDV^T = VD^TDV^T \n",
    "$$\n",
    "$$\n",
    "A A^T = UD^TV^T VDU^T = UD^TDU^T \n",
    "$$\n",
    "\n",
    "The right-hand sides of these relations describe the eigenvalue decompositions of the left-hand sides. Consequently:\n",
    "* the columns of V (right-singular vectors) are eigenvectors of $A^TA$.\n",
    "* the columns of U (left-singular vectors) are eigenvectors of $AA^T$.\n",
    "* the elements on the diagonal of the matrix $D^TD$ are the eigenvalues of $A^TA$ or $AA^T$ (follows from the eigenvalue decomposition $A = V \\Lambda V^{-1}$). In other words, the elements of the diagonal matrix $D$ are the square root of the eigenvalues of $A^TA$ or $AA^T$.\n",
    "\n",
    "A geometrical representation of SVD is given by the following figure:"
   ]
  },
  {
   "cell_type": "code",
   "execution_count": 19,
   "metadata": {},
   "outputs": [
    {
     "data": {
      "image/png": "[encoded data removed]",
      "text/plain": [
       "<IPython.core.display.Image object>"
      ]
     },
     "execution_count": 19,
     "metadata": {},
     "output_type": "execute_result"
    }
   ],
   "source": [
    "from IPython.display import Image\n",
    "Image(\"Singular-Value-Decomposition.png\")"
   ]
  },
  {
   "cell_type": "markdown",
   "metadata": {},
   "source": [
    "Needless to say, the SVD is [implemented](https://numpy.org/doc/stable/reference/generated/numpy.linalg.svd.html) in `scipy.linalg` in the the `svd()` method:"
   ]
  },
  {
   "cell_type": "code",
   "execution_count": 20,
   "metadata": {},
   "outputs": [
    {
     "name": "stdout",
     "output_type": "stream",
     "text": [
      "A:\n",
      " [[ 0.25879964  0.73596837  1.0545627   1.48907238]\n",
      " [-0.08341681 -1.85088667 -1.58133006  1.06103389]\n",
      " [-0.30346458 -0.86357857  2.17916566 -0.69401964]\n",
      " [ 0.83657748 -2.17601074 -0.21678444 -1.60554766]\n",
      " [-0.42072207 -0.67867994 -0.45989087  0.41902539]] \n",
      "\n",
      "shapes: U = (5, 5) D: (4,) V^T: (4, 4) \n",
      "\n",
      "Spectrum:\n",
      " [3.54060299 3.04111478 1.8815538  0.90848975] \n",
      "\n",
      "U:\n",
      " [[ 0.4311915   0.07020372  0.58624941 -0.64652944  0.21784543]\n",
      " [-0.53323863  0.52051531  0.52811007  0.04332839 -0.40489847]\n",
      " [ 0.01422786 -0.72742728  0.5484161   0.36039149 -0.20001219]\n",
      " [-0.70841645 -0.40499965 -0.09106833 -0.51882167  0.23801693]\n",
      " [-0.1663555   0.1759548   0.26145308  0.4255166   0.83183151]] \n",
      "\n",
      "V^T:\n",
      " [[-0.10475622  0.83218725  0.44032857  0.32031433]\n",
      " [-0.07146862  0.15728116 -0.76530463  0.62005137]\n",
      " [-0.13018059 -0.53088493  0.46648269  0.69541937]\n",
      " [-0.98334703 -0.02980285 -0.05304219 -0.17125107]] \n",
      "\n"
     ]
    }
   ],
   "source": [
    "m, n = 5, 4\n",
    "A = np.random.randn(m, n) #+ 1.j*np.random.randn(m, n) # it also work with complex numbers\n",
    "print(\"A:\\n\", A, '\\n')\n",
    "\n",
    "# perform the SVD\n",
    "U, S, Vt = la.svd(A)\n",
    "\n",
    "print(\"shapes: U =\", U.shape, \"D:\", S.shape, \"V^T:\", Vt.shape, '\\n')\n",
    "print(\"Spectrum:\\n\", S, '\\n')\n",
    "print(\"U:\\n\", U, '\\n')\n",
    "print(\"V^T:\\n\", Vt, '\\n')"
   ]
  },
  {
   "cell_type": "code",
   "execution_count": 21,
   "metadata": {},
   "outputs": [
    {
     "name": "stdout",
     "output_type": "stream",
     "text": [
      "D:\n",
      " [[3.54060299 0.         0.         0.        ]\n",
      " [0.         3.04111478 0.         0.        ]\n",
      " [0.         0.         1.8815538  0.        ]\n",
      " [0.         0.         0.         0.90848975]\n",
      " [0.         0.         0.         0.        ]] \n",
      "\n",
      "SVD:\n",
      " [[ 0.25879964  0.73596837  1.0545627   1.48907238]\n",
      " [-0.08341681 -1.85088667 -1.58133006  1.06103389]\n",
      " [-0.30346458 -0.86357857  2.17916566 -0.69401964]\n",
      " [ 0.83657748 -2.17601074 -0.21678444 -1.60554766]\n",
      " [-0.42072207 -0.67867994 -0.45989087  0.41902539]] \n",
      "\n",
      "Are the SVD and A matrices equal? True\n"
     ]
    }
   ],
   "source": [
    "# Let's verify the definition of SVD by hand\n",
    "D = np.zeros((m, n))\n",
    "for i in range(min(m, n)):\n",
    "    D[i, i] = S[i]\n",
    "print(\"D:\\n\", D, '\\n')\n",
    "\n",
    "SVD = np.dot(U, np.dot(D, Vt))\n",
    "print(\"SVD:\\n\", SVD, '\\n')\n",
    "print(\"Are the SVD and A matrices equal?\", np.allclose(SVD, A))"
   ]
  },
  {
   "cell_type": "markdown",
   "metadata": {},
   "source": [
    "## Principal Component Analysis \n",
    "\n",
    "Principal Components Analysis (PCA) aims to find and rank all the eigenvalues and eigenvectors of the covariance matrix of a given dataset. This is useful because high-dimensional data (with $p$ features) may have nearly all their variation in a small number of dimensions $k < p$, i.e. in the subspace spanned by the eigenvectors of the covariance matrix that have the $k$ largest eigenvalues. If we project the original data into this subspace, we can have a dimension reduction (from $p$ to $k$) with hopefully little loss of information."
   ]
  },
  {
   "cell_type": "code",
   "execution_count": 22,
   "metadata": {},
   "outputs": [
    {
     "data": {
      "text/plain": [
       "<matplotlib.collections.PathCollection at 0x1e000562220>"
      ]
     },
     "execution_count": 22,
     "metadata": {},
     "output_type": "execute_result"
    },
    {
     "data": {
      "image/png": "[encoded data removed]",
      "text/plain": [
       "<Figure size 432x288 with 1 Axes>"
      ]
     },
     "metadata": {
      "needs_background": "light"
     },
     "output_type": "display_data"
    }
   ],
   "source": [
    "# construct a dataset with a skewed 2D distribution\n",
    "mu = [0, 0] # centered on 0\n",
    "sigma = [[0.6, 0.2], [0.2, 0.2]] # asymmetric sigmas\n",
    "n = 1000\n",
    "# generate random numbers according to a 2D normal distribution\n",
    "X = np.random.multivariate_normal(mu, sigma, n).T\n",
    "\n",
    "plt.scatter(X[0,:], X[1,:], alpha=0.2)"
   ]
  },
  {
   "cell_type": "markdown",
   "metadata": {},
   "source": [
    "Numerically, PCA can be done either by means of **eigendecomposition on the covariance matrix** or via **SVD on the data matrix**. Even though the latter is usually preferred, let's have first a look at the former.\n",
    "\n",
    "\n",
    "### PCA with eigendecomposition\n",
    "\n",
    "Let's recall the definition of the covariance matrix (of 2 variables):\n",
    "\n",
    "$$\n",
    "{\\rm Cov}(X,Y)=\\frac{\\sum_{i=1}^n (X_i-\\bar{X})(Y_i-\\bar{Y})}{n-1}\n",
    "$$\n",
    "\n",
    "with Cov$(X,X)$ the variance of the variable $X$.\n",
    "\n",
    "In the case the features of the datasets have all zero mean, the covariance matrix is of the form:\n",
    "\n",
    "$$\n",
    "{\\rm Cov}(X)=\\frac{XX^T}{n-1}\n",
    "$$"
   ]
  },
  {
   "cell_type": "code",
   "execution_count": 23,
   "metadata": {},
   "outputs": [
    {
     "name": "stdout",
     "output_type": "stream",
     "text": [
      "Covariance matrix:\n",
      " [[0.67355388 0.2111865 ]\n",
      " [0.2111865  0.2057495 ]] \n",
      "\n",
      "Eigenvalues:\n",
      " [0.75478654 0.12451684] \n",
      "\n",
      "Eigenvectors:\n",
      " [[ 0.93333512 -0.35900634]\n",
      " [ 0.35900634  0.93333512]] \n",
      "\n",
      "VV^T:\n",
      " [[ 1.00000000e+00 -1.60344236e-17]\n",
      " [-1.60344236e-17  1.00000000e+00]] \n",
      "\n"
     ]
    }
   ],
   "source": [
    "# the covariance matrix\n",
    "cov = np.cov(X)\n",
    "#cov = np.dot(X, X.T)/(n-1) # this would yield the same result\n",
    "print(\"Covariance matrix:\\n\", cov, '\\n')\n",
    "\n",
    "# now find the eigenvectors of the covariance matrix\n",
    "l, V = la.eig(cov)\n",
    "# take only the real component, if possible\n",
    "l = np.real_if_close(l)\n",
    "\n",
    "print(\"Eigenvalues:\\n\", l, '\\n')\n",
    "print(\"Eigenvectors:\\n\", V, '\\n')\n",
    "\n",
    "# Check that V is actually an orthogonal matrix (and thus its transpose is also its inverse)\n",
    "print(\"VV^T:\\n\", V.dot(V.T), '\\n')"
   ]
  },
  {
   "cell_type": "code",
   "execution_count": 24,
   "metadata": {},
   "outputs": [
    {
     "name": "stdout",
     "output_type": "stream",
     "text": [
      "Eigenvalue: 0.7547865412107024 ,\teigenvector: [0.93333512 0.35900634]\n",
      "Eigenvalue: 0.12451684010711465 ,\teigenvector: [-0.35900634  0.93333512]\n"
     ]
    },
    {
     "data": {
      "text/plain": [
       "Text(0.5, 1.0, 'Eigendecomposition:\\neigenvectors of covariance matrix scaled by eigenvalue')"
      ]
     },
     "execution_count": 24,
     "metadata": {},
     "output_type": "execute_result"
    },
    {
     "data": {
      "image/png": "[encoded data removed]",
      "text/plain": [
       "<Figure size 576x576 with 1 Axes>"
      ]
     },
     "metadata": {
      "needs_background": "light"
     },
     "output_type": "display_data"
    }
   ],
   "source": [
    "# Graphically represent the eigenvectors rescaled by the eigenvalues\n",
    "plt.figure(figsize=(8, 8))\n",
    "# the original data distribution\n",
    "plt.scatter(X[0,:], X[1,:], alpha=0.2)\n",
    "\n",
    "# a scale factor to graphically enhance the lines - only for visualization purposes\n",
    "scale_factor = 3\n",
    "\n",
    "# draw each eigenvectors rescaled by the eigenvalues\n",
    "for li, vi in zip(l, V.T):\n",
    "    print(\"Eigenvalue:\", li, \",\\teigenvector:\", vi)\n",
    "    # the line is defined by specifying its beginning and its end \n",
    "    plt.plot([0, scale_factor * li * vi[0]], [0, scale_factor * li * vi[1]], 'r-', lw=2)\n",
    "\n",
    "# fix the size of the axes to have the right visual effect\n",
    "plt.axis([-3, 3, -3, 3])\n",
    "plt.title('Eigendecomposition:\\neigenvectors of covariance matrix scaled by eigenvalue')"
   ]
  },
  {
   "cell_type": "markdown",
   "metadata": {},
   "source": [
    "We can now use the eigenvectors and eigenvalues to rotate the data, i.e. take the eigenvectors as new basis vectors and redefine the data points w.r.t. this new basis."
   ]
  },
  {
   "cell_type": "code",
   "execution_count": null,
   "metadata": {},
   "outputs": [],
   "source": [
    "# rotate all the data points accordingly to the new base by multiplying by the transpose of matrix V\n",
    "Xp = np.dot(V.T, X)\n",
    "\n",
    "# then plot the rotated dataset and its \"axes\"\n",
    "plt.figure(figsize=(8, 8))\n",
    "plt.scatter(Xp[0,:], Xp[1,:], alpha=0.2)\n",
    "# same eigenvalues as before, assume we rotated properly the data\n",
    "for li, vi in zip(l, np.diag([1]*len(l))):\n",
    "    plt.plot([0, scale_factor*li*vi[0]], [0, scale_factor*li*vi[1]], 'r-', lw=2)\n",
    "plt.axis([-3, 3, -3, 3])"
   ]
  },
  {
   "cell_type": "markdown",
   "metadata": {},
   "source": [
    "For example, if we only use the first column of `Xp`, we will have the projection of the data onto the first principal component, capturing the majority of the variance in the data using only a single feature that is a linear combination of the original features.\n",
    "\n",
    "We may need to transform the (reduced) data set to the original feature coordinates for interpreation. This is simply another linear transform (matrix multiplication)."
   ]
  },
  {
   "cell_type": "code",
   "execution_count": null,
   "metadata": {},
   "outputs": [],
   "source": [
    "# rotate back the data to the original basis, this time by multiplying by the matrix V, the opposite as before\n",
    "Xpp = np.dot(V, Xp)\n",
    "\n",
    "# re-plot in the original basis\n",
    "plt.figure(figsize=(8, 8))\n",
    "plt.scatter(Xpp[0,:], Xpp[1,:], alpha=0.2)\n",
    "for li, vi in zip(l, V.T):\n",
    "    plt.plot([0, scale_factor*li*vi[0]], [0, scale_factor*li*vi[1]], 'r-', lw=2)\n",
    "plt.axis([-3, 3, -3, 3])"
   ]
  },
  {
   "cell_type": "markdown",
   "metadata": {},
   "source": [
    "#### Dimension reduction via PCA\n",
    "\n",
    "Given the spectral decomposition:\n",
    "\n",
    "$$ \n",
    "A=V\\Lambda V^{-1}\n",
    "$$\n",
    "\n",
    "with $\\Lambda$ of rank $p$. Reducing the dimensionality to $k<p$ simply means setting to zero all but the first $k$ diagonal values (ordered from the largest to the smaller in module; that is the default in numpy/scipy).\n",
    "\n",
    "In this way we catch the most relevant part of its variability (covariance).\n",
    "\n",
    "Since the trace is invariant under change of basis, the total variability is also unchaged by PCA. By keeping only the first $k$ principal components, we can still retain $\\sum_1^k \\lambda_i/\\sum_1^p \\lambda_i$ of the total variability.\n",
    "\n",
    "In general, the degree of dimension reduction is specified as keeping enough principal components so that a certain fraction (say 90%) of the total variability is retained."
   ]
  },
  {
   "cell_type": "markdown",
   "metadata": {},
   "source": [
    "In the previous example, let's consider only the component that exhibits the largest variability, and discard the other:"
   ]
  },
  {
   "cell_type": "code",
   "execution_count": null,
   "metadata": {},
   "outputs": [],
   "source": [
    "#l, V = np.linalg.eig(cov)\n",
    "Lambda = np.diag(l)\n",
    "print(\"Lambda:\\n\", Lambda, '\\n')\n",
    "print(\"Trace(A):\\n\", cov.trace(), '\\n')\n",
    "print(\"Trace(Lambda):\\n\", Lambda.trace(), '\\n')\n",
    "\n",
    "print(\"By selecting the component 0, we retain %.2f%% of the total variability\" % (Lambda[0,0]/Lambda.trace()))"
   ]
  },
  {
   "cell_type": "markdown",
   "metadata": {},
   "source": [
    "### PCA with SVD\n",
    "\n",
    "We saw that SVD is a decomposition of the data matrix $X=UDV^T$ where $U$ and $V$ are orthogonal matrices and $D$ is a diagnonal matrix.\n",
    "\n",
    "Compared with the eigendecomposition of a matrix $A=W\\Lambda W^{−1}$, we see that SVD gives us the eigendecomposition of the matrix $XX^T$, which as we have just seen, is basically a scaled version of the covariance for a data matrix with zero mean, with the eigenvectors given by $U$ and eigenvalues by $D^2$ (scaled by n−1)."
   ]
  },
  {
   "cell_type": "code",
   "execution_count": null,
   "metadata": {},
   "outputs": [],
   "source": [
    "# Perform SVD decomposition on the dataset\n",
    "U, S, Vt = np.linalg.svd(X)\n",
    "\n",
    "# Rescale the SVD spectrum to get the eigenvalues\n",
    "l_svd = S**2/(n-1)\n",
    "# The matrix U already contains the eigenvectors\n",
    "V_svd = U\n",
    "\n",
    "plt.figure(figsize=(8, 8))\n",
    "plt.scatter(X[0,:], X[1,:], alpha=0.2)\n",
    "for li, vi in zip(l_svd, V_svd):\n",
    "    plt.plot([0, scale_factor*li*vi[0]], [0, scale_factor*li*vi[1]], 'r-', lw=2)\n",
    "plt.axis([-3, 3, -3, 3])"
   ]
  },
  {
   "cell_type": "code",
   "execution_count": null,
   "metadata": {},
   "outputs": [],
   "source": [
    "# Compare Eigenvalues\n",
    "print(\"Eigendecomposition:\\n\", l)\n",
    "print(\"SVD:\\n\", l_svd)"
   ]
  },
  {
   "cell_type": "code",
   "execution_count": null,
   "metadata": {},
   "outputs": [],
   "source": [
    "# Compare Eigenvectors\n",
    "print(\"Eigendecomposition:\\n\", V)\n",
    "print(\"SVD:\\n\", V_svd)"
   ]
  },
  {
   "cell_type": "markdown",
   "metadata": {},
   "source": [
    "# Algorithmic Complexity\n",
    "\n",
    "Profiling (e.g. with `timeit`) doesn’t tell us much about how an algorithm will perform on a different computer since it is determined by the hardware features. To compare performance in a device-indpendent fashion, a formalism (a.k.a the \"Big-O\") is used that characterizes functions in terms of their rates of growth as a function of the size *n* of the input.\n",
    "\n",
    "An algorithm is compared to a given function $g(n)$ with a well defined scaling with *n*, e.g. $n^2$; if the ratio of the two is bounded, than that algorithm is ${\\cal O}(g(n))$. Note that:\n",
    "* only the largest terms in the scaling of $g(n)$ is kept in the notation\n",
    "* two algorithms can have the same complexity and have very different performance; the same complexity only implies that the difference in performance is independent of *n*.\n",
    "\n",
    "### Comparing bubble sort ${\\cal O}(n^2)$ and merge sort ${\\cal O}(n\\log{n})$"
   ]
  },
  {
   "cell_type": "code",
   "execution_count": null,
   "metadata": {},
   "outputs": [],
   "source": [
    "def f1(n, k):\n",
    "    return k * n * n\n",
    "\n",
    "def f2(n, k):\n",
    "    return k * n * np.log(n)\n",
    "\n",
    "n = np.arange(0.1, 20001)\n",
    "plt.plot(n, f1(n, 1), c='blue')\n",
    "plt.plot(n, f2(n, 1000), c='red')\n",
    "plt.xlabel('Size of input (n)', fontsize=16)\n",
    "plt.ylabel('Number of operations', fontsize=16)\n",
    "plt.legend(['$\\mathcal{O}(n^2)$', '$\\mathcal{O}(n \\log n)$'], loc='best', fontsize=20);"
   ]
  },
  {
   "cell_type": "markdown",
   "metadata": {},
   "source": [
    "See [here](https://wiki.python.org/moin/TimeComplexity) for the complexity of operations on standard Python data structures. Note for instance that searching a list is much more expensive than searching a dictionary."
   ]
  },
  {
   "cell_type": "markdown",
   "metadata": {},
   "source": [
    "### Space Complexity\n",
    "\n",
    "We can also use the ${\\cal O}$ notation in the same way to measure the space complexity of an algorithm.  The notion of space complexity becomes important when your data volume is of the same magnitude or larger than the memory you have available. In that case, an algorihtm with high space complexity may end up having to swap memory constantly, and will perform far worse than its time complexity would suggest.\n",
    "\n",
    "Just as you should have a good idea of how your algorithm will scale with increasing *n*, you should also be able to know how much memory your data structures will require. For example, if you had an $n\\times p$ matrix of integers, an $n\\times p$ matrix of floats, and an $n\\times p$ matrix of complex floats, how large can $n$ and $p$ be before you run out of RAM to store them?"
   ]
  },
  {
   "cell_type": "code",
   "execution_count": null,
   "metadata": {},
   "outputs": [],
   "source": [
    "# Notice how much overhead Python objects have:\n",
    "# a raw integer should be 64 bits or 8 bytes only\n",
    "\n",
    "import sys\n",
    "print(\"int:\", sys.getsizeof(1), \"bytes\") # bytes\n",
    "print(\"long:\", sys.getsizeof(1234567890123456789012345678901234567890), \"bytes\")\n",
    "print(\"float:\", sys.getsizeof(3.14), \"bytes\")\n",
    "print(\"complex:\", sys.getsizeof(3j), \"bytes\")\n",
    "print(\"char:\", sys.getsizeof('a'), \"bytes\")\n",
    "print(\"string:\", sys.getsizeof('hello world'), \"bytes\")"
   ]
  },
  {
   "cell_type": "code",
   "execution_count": null,
   "metadata": {},
   "outputs": [],
   "source": [
    "print(\"100x100 bool:\", np.ones((100, 100), dtype='bool').nbytes, \"bytes\")\n",
    "print(\"100x100 int:\", np.ones((100, 100), dtype='int').nbytes, \"bytes\") # default is 64 bits or 8 bytes\n",
    "print(\"100x100 float:\", np.ones((100, 100), dtype='float').nbytes, \"bytes\") # default is 64 bits or 8 bytes\n",
    "print(\"100x100 complex:\", np.ones((100, 100), dtype='complex').nbytes, \"bytes\")\n",
    "print(\"10kx10k float:\", np.ones((10000, 10000), dtype='float').nbytes / 1e9, \"GB\")"
   ]
  },
  {
   "cell_type": "code",
   "execution_count": null,
   "metadata": {},
   "outputs": [],
   "source": []
  }
 ],
 "metadata": {
  "kernelspec": {
   "display_name": "Python 3",
   "language": "python",
   "name": "python3"
  },
  "language_info": {
   "codemirror_mode": {
    "name": "ipython",
    "version": 3
   },
   "file_extension": ".py",
   "mimetype": "text/x-python",
   "name": "python",
   "nbconvert_exporter": "python",
   "pygments_lexer": "ipython3",
   "version": "3.8.8"
  }
 },
 "nbformat": 4,
 "nbformat_minor": 2
}
